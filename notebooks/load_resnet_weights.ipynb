{
 "cells": [
  {
   "cell_type": "code",
   "execution_count": 1,
   "metadata": {},
   "outputs": [
    {
     "name": "stderr",
     "output_type": "stream",
     "text": [
      "/u/home/seel/.conda/envs/conda-adlm/lib/python3.9/site-packages/scipy/__init__.py:146: UserWarning: A NumPy version >=1.16.5 and <1.23.0 is required for this version of SciPy (detected version 1.24.3\n",
      "  warnings.warn(f\"A NumPy version >={np_minversion} and <{np_maxversion}\"\n"
     ]
    },
    {
     "name": "stdout",
     "output_type": "stream",
     "text": [
      "2023-07-15 21:50:17,370 - Created a temporary directory at /tmp/tmpxfa2mw9a\n",
      "2023-07-15 21:50:17,371 - Writing /tmp/tmpxfa2mw9a/_remote_module_non_scriptable.py\n"
     ]
    }
   ],
   "source": [
    "from monai.networks.nets import resnet10, resnet18, resnet50\n",
    "\n",
    "import torch\n",
    "from torch import optim, nn, utils, Tensor\n",
    "from torchvision.datasets import MNIST\n",
    "from torchvision.transforms import ToTensor\n",
    "import lightning.pytorch as pl\n",
    "from torchsummary import summary\n",
    "import torch.nn.functional as F\n",
    "\n",
    "import typing\n"
   ]
  },
  {
   "cell_type": "code",
   "execution_count": 6,
   "metadata": {},
   "outputs": [
    {
     "data": {
      "text/plain": [
       "254"
      ]
     },
     "execution_count": 6,
     "metadata": {},
     "output_type": "execute_result"
    }
   ],
   "source": [
    "result = torch.load(\"/u/home/seel/ADLM/adlm_ss2023_mmcl/results/picai/picai_Unimodal_Contrastive_ResNet10_500e/encoder.pt\")\n",
    "result.keys()\n",
    "result[\"epoch\"]"
   ]
  },
  {
   "cell_type": "code",
   "execution_count": 15,
   "metadata": {},
   "outputs": [],
   "source": [
    "def create_pretrained_medical_resnet(\n",
    "    pretrained_path: str,\n",
    "    model_constructor: callable = resnet18,\n",
    "    spatial_dims: int = 3,\n",
    "    n_input_channels: int = 1,\n",
    "    num_classes: int = 2,\n",
    "    **kwargs_monai_resnet):\n",
    "    \"\"\"This si specific constructor for MONAI ResNet module loading MedicalNEt weights.\n",
    "    See:\n",
    "    - https://github.com/Project-MONAI/MONAI\n",
    "    - https://github.com/Borda/MedicalNet\n",
    "    \"\"\"\n",
    "    net = model_constructor(\n",
    "        pretrained=False,\n",
    "        spatial_dims=spatial_dims,\n",
    "        n_input_channels=n_input_channels,\n",
    "        num_classes=num_classes,\n",
    "        **kwargs_monai_resnet\n",
    "    )\n",
    "    net_dict = net.state_dict()\n",
    "    pretrain = torch.load(pretrained_path)\n",
    "    pretrain['state_dict'] = {k.replace('module.', ''): v for k, v in pretrain['state_dict'].items()}\n",
    "    missing = tuple({k for k in net_dict.keys() if k not in pretrain['state_dict']})\n",
    "    #logging.debug(f\"missing in pretrained: {len(missing)}\")\n",
    "    inside = tuple({k for k in pretrain['state_dict'] if k in net_dict.keys()})\n",
    "    #logging.debug(f\"inside pretrained: {len(inside)}\")\n",
    "    unused = tuple({k for k in pretrain['state_dict'] if k not in net_dict.keys()})\n",
    "    #logging.debug(f\"unused pretrained: {len(unused)}\")\n",
    "    assert len(inside) > len(missing)\n",
    "    assert len(inside) > len(unused)\n",
    "\n",
    "    pretrain['state_dict'] = {k: v for k, v in pretrain['state_dict'].items() if k in net_dict.keys()}\n",
    "    net.load_state_dict(pretrain['state_dict'], strict=False)\n",
    "    return net, inside"
   ]
  },
  {
   "cell_type": "code",
   "execution_count": 17,
   "metadata": {},
   "outputs": [
    {
     "data": {
      "text/plain": [
       "(ResNet(\n",
       "   (conv1): Conv3d(1, 64, kernel_size=(7, 7, 7), stride=(1, 1, 1), padding=(3, 3, 3), bias=False)\n",
       "   (bn1): BatchNorm3d(64, eps=1e-05, momentum=0.1, affine=True, track_running_stats=True)\n",
       "   (relu): ReLU(inplace=True)\n",
       "   (maxpool): MaxPool3d(kernel_size=3, stride=2, padding=1, dilation=1, ceil_mode=False)\n",
       "   (layer1): Sequential(\n",
       "     (0): ResNetBlock(\n",
       "       (conv1): Conv3d(64, 64, kernel_size=(3, 3, 3), stride=(1, 1, 1), padding=(1, 1, 1), bias=False)\n",
       "       (bn1): BatchNorm3d(64, eps=1e-05, momentum=0.1, affine=True, track_running_stats=True)\n",
       "       (relu): ReLU(inplace=True)\n",
       "       (conv2): Conv3d(64, 64, kernel_size=(3, 3, 3), stride=(1, 1, 1), padding=(1, 1, 1), bias=False)\n",
       "       (bn2): BatchNorm3d(64, eps=1e-05, momentum=0.1, affine=True, track_running_stats=True)\n",
       "     )\n",
       "   )\n",
       "   (layer2): Sequential(\n",
       "     (0): ResNetBlock(\n",
       "       (conv1): Conv3d(64, 128, kernel_size=(3, 3, 3), stride=(2, 2, 2), padding=(1, 1, 1), bias=False)\n",
       "       (bn1): BatchNorm3d(128, eps=1e-05, momentum=0.1, affine=True, track_running_stats=True)\n",
       "       (relu): ReLU(inplace=True)\n",
       "       (conv2): Conv3d(128, 128, kernel_size=(3, 3, 3), stride=(1, 1, 1), padding=(1, 1, 1), bias=False)\n",
       "       (bn2): BatchNorm3d(128, eps=1e-05, momentum=0.1, affine=True, track_running_stats=True)\n",
       "       (downsample): Sequential(\n",
       "         (0): Conv3d(64, 128, kernel_size=(1, 1, 1), stride=(2, 2, 2))\n",
       "         (1): BatchNorm3d(128, eps=1e-05, momentum=0.1, affine=True, track_running_stats=True)\n",
       "       )\n",
       "     )\n",
       "   )\n",
       "   (layer3): Sequential(\n",
       "     (0): ResNetBlock(\n",
       "       (conv1): Conv3d(128, 256, kernel_size=(3, 3, 3), stride=(2, 2, 2), padding=(1, 1, 1), bias=False)\n",
       "       (bn1): BatchNorm3d(256, eps=1e-05, momentum=0.1, affine=True, track_running_stats=True)\n",
       "       (relu): ReLU(inplace=True)\n",
       "       (conv2): Conv3d(256, 256, kernel_size=(3, 3, 3), stride=(1, 1, 1), padding=(1, 1, 1), bias=False)\n",
       "       (bn2): BatchNorm3d(256, eps=1e-05, momentum=0.1, affine=True, track_running_stats=True)\n",
       "       (downsample): Sequential(\n",
       "         (0): Conv3d(128, 256, kernel_size=(1, 1, 1), stride=(2, 2, 2))\n",
       "         (1): BatchNorm3d(256, eps=1e-05, momentum=0.1, affine=True, track_running_stats=True)\n",
       "       )\n",
       "     )\n",
       "   )\n",
       "   (layer4): Sequential(\n",
       "     (0): ResNetBlock(\n",
       "       (conv1): Conv3d(256, 512, kernel_size=(3, 3, 3), stride=(2, 2, 2), padding=(1, 1, 1), bias=False)\n",
       "       (bn1): BatchNorm3d(512, eps=1e-05, momentum=0.1, affine=True, track_running_stats=True)\n",
       "       (relu): ReLU(inplace=True)\n",
       "       (conv2): Conv3d(512, 512, kernel_size=(3, 3, 3), stride=(1, 1, 1), padding=(1, 1, 1), bias=False)\n",
       "       (bn2): BatchNorm3d(512, eps=1e-05, momentum=0.1, affine=True, track_running_stats=True)\n",
       "       (downsample): Sequential(\n",
       "         (0): Conv3d(256, 512, kernel_size=(1, 1, 1), stride=(2, 2, 2))\n",
       "         (1): BatchNorm3d(512, eps=1e-05, momentum=0.1, affine=True, track_running_stats=True)\n",
       "       )\n",
       "     )\n",
       "   )\n",
       "   (avgpool): AdaptiveAvgPool3d(output_size=(1, 1, 1))\n",
       "   (fc): Linear(in_features=512, out_features=1, bias=True)\n",
       " ),\n",
       " ('layer1.0.bn2.running_var',\n",
       "  'layer4.0.bn1.weight',\n",
       "  'layer1.0.bn2.num_batches_tracked',\n",
       "  'layer4.0.bn2.running_mean',\n",
       "  'layer2.0.bn2.num_batches_tracked',\n",
       "  'layer3.0.bn2.bias',\n",
       "  'layer2.0.downsample.1.weight',\n",
       "  'layer3.0.bn1.weight',\n",
       "  'bn1.weight',\n",
       "  'layer1.0.bn1.bias',\n",
       "  'layer1.0.bn2.running_mean',\n",
       "  'layer4.0.bn1.bias',\n",
       "  'layer1.0.conv2.weight',\n",
       "  'layer1.0.bn1.running_mean',\n",
       "  'layer3.0.bn1.running_mean',\n",
       "  'layer3.0.bn2.running_mean',\n",
       "  'layer4.0.bn2.running_var',\n",
       "  'layer4.0.bn2.num_batches_tracked',\n",
       "  'layer2.0.downsample.1.running_mean',\n",
       "  'layer3.0.bn2.running_var',\n",
       "  'conv1.weight',\n",
       "  'layer2.0.bn2.bias',\n",
       "  'layer3.0.downsample.0.weight',\n",
       "  'layer1.0.bn2.bias',\n",
       "  'layer4.0.bn2.bias',\n",
       "  'layer2.0.bn1.running_var',\n",
       "  'layer1.0.conv1.weight',\n",
       "  'layer4.0.downsample.0.weight',\n",
       "  'layer4.0.downsample.1.weight',\n",
       "  'layer2.0.downsample.1.num_batches_tracked',\n",
       "  'layer1.0.bn1.weight',\n",
       "  'layer4.0.bn1.running_mean',\n",
       "  'layer1.0.bn2.weight',\n",
       "  'layer2.0.bn2.running_mean',\n",
       "  'layer3.0.bn1.bias',\n",
       "  'layer2.0.bn1.weight',\n",
       "  'layer2.0.bn1.bias',\n",
       "  'layer4.0.bn2.weight',\n",
       "  'layer2.0.bn2.weight',\n",
       "  'layer1.0.bn1.num_batches_tracked',\n",
       "  'layer2.0.conv1.weight',\n",
       "  'bn1.running_var',\n",
       "  'layer2.0.downsample.0.weight',\n",
       "  'bn1.bias',\n",
       "  'layer3.0.conv1.weight',\n",
       "  'layer2.0.conv2.weight',\n",
       "  'layer3.0.bn1.num_batches_tracked',\n",
       "  'layer2.0.downsample.1.bias',\n",
       "  'layer2.0.downsample.1.running_var',\n",
       "  'layer3.0.downsample.1.running_var',\n",
       "  'layer4.0.bn1.num_batches_tracked',\n",
       "  'layer3.0.conv2.weight',\n",
       "  'layer2.0.bn1.running_mean',\n",
       "  'layer3.0.downsample.1.num_batches_tracked',\n",
       "  'layer3.0.bn1.running_var',\n",
       "  'layer3.0.downsample.1.weight',\n",
       "  'bn1.num_batches_tracked',\n",
       "  'layer3.0.downsample.1.bias',\n",
       "  'layer3.0.bn2.weight',\n",
       "  'layer4.0.conv2.weight',\n",
       "  'layer4.0.downsample.1.num_batches_tracked',\n",
       "  'layer1.0.bn1.running_var',\n",
       "  'layer3.0.downsample.1.running_mean',\n",
       "  'layer2.0.bn1.num_batches_tracked',\n",
       "  'layer4.0.bn1.running_var',\n",
       "  'layer3.0.bn2.num_batches_tracked',\n",
       "  'layer4.0.downsample.1.running_mean',\n",
       "  'layer4.0.downsample.1.running_var',\n",
       "  'layer2.0.bn2.running_var',\n",
       "  'layer4.0.conv1.weight',\n",
       "  'layer4.0.downsample.1.bias',\n",
       "  'bn1.running_mean'))"
      ]
     },
     "execution_count": 17,
     "metadata": {},
     "output_type": "execute_result"
    },
    {
     "ename": "",
     "evalue": "",
     "output_type": "error",
     "traceback": [
      "\u001b[1;31mThe Kernel crashed while executing code in the the current cell or a previous cell. Please review the code in the cell(s) to identify a possible cause of the failure. Click <a href='https://aka.ms/vscodeJupyterKernelCrash'>here</a> for more info. View Jupyter <a href='command:jupyter.viewOutput'>log</a> for further details."
     ]
    }
   ],
   "source": [
    "create_pretrained_medical_resnet(\n",
    "    pretrained_path = \"../models/pretrain/resnet_10.pth\",\n",
    "    model_constructor = resnet10,\n",
    "    spatial_dims = 3,\n",
    "    n_input_channels = 1,\n",
    "    num_classes = 1)"
   ]
  },
  {
   "cell_type": "code",
   "execution_count": 2,
   "metadata": {},
   "outputs": [],
   "source": [
    "net = resnet10(pretrained=False, n_input_channels = 1, num_classes = 1)"
   ]
  },
  {
   "cell_type": "code",
   "execution_count": 5,
   "metadata": {},
   "outputs": [],
   "source": [
    "weights_dict = torch.load(\"../models/pretrain/resnet_10.pth\")[\"state_dict\"]\n"
   ]
  },
  {
   "cell_type": "code",
   "execution_count": 6,
   "metadata": {},
   "outputs": [
    {
     "name": "stdout",
     "output_type": "stream",
     "text": [
      "['conv1.weight', 'bn1.weight', 'bn1.bias', 'bn1.running_mean', 'bn1.running_var', 'bn1.num_batches_tracked', 'layer1.0.conv1.weight', 'layer1.0.bn1.weight', 'layer1.0.bn1.bias', 'layer1.0.bn1.running_mean', 'layer1.0.bn1.running_var', 'layer1.0.bn1.num_batches_tracked', 'layer1.0.conv2.weight', 'layer1.0.bn2.weight', 'layer1.0.bn2.bias', 'layer1.0.bn2.running_mean', 'layer1.0.bn2.running_var', 'layer1.0.bn2.num_batches_tracked', 'layer2.0.conv1.weight', 'layer2.0.bn1.weight', 'layer2.0.bn1.bias', 'layer2.0.bn1.running_mean', 'layer2.0.bn1.running_var', 'layer2.0.bn1.num_batches_tracked', 'layer2.0.conv2.weight', 'layer2.0.bn2.weight', 'layer2.0.bn2.bias', 'layer2.0.bn2.running_mean', 'layer2.0.bn2.running_var', 'layer2.0.bn2.num_batches_tracked', 'layer2.0.downsample.0.weight', 'layer2.0.downsample.0.bias', 'layer2.0.downsample.1.weight', 'layer2.0.downsample.1.bias', 'layer2.0.downsample.1.running_mean', 'layer2.0.downsample.1.running_var', 'layer2.0.downsample.1.num_batches_tracked', 'layer3.0.conv1.weight', 'layer3.0.bn1.weight', 'layer3.0.bn1.bias', 'layer3.0.bn1.running_mean', 'layer3.0.bn1.running_var', 'layer3.0.bn1.num_batches_tracked', 'layer3.0.conv2.weight', 'layer3.0.bn2.weight', 'layer3.0.bn2.bias', 'layer3.0.bn2.running_mean', 'layer3.0.bn2.running_var', 'layer3.0.bn2.num_batches_tracked', 'layer3.0.downsample.0.weight', 'layer3.0.downsample.0.bias', 'layer3.0.downsample.1.weight', 'layer3.0.downsample.1.bias', 'layer3.0.downsample.1.running_mean', 'layer3.0.downsample.1.running_var', 'layer3.0.downsample.1.num_batches_tracked', 'layer4.0.conv1.weight', 'layer4.0.bn1.weight', 'layer4.0.bn1.bias', 'layer4.0.bn1.running_mean', 'layer4.0.bn1.running_var', 'layer4.0.bn1.num_batches_tracked', 'layer4.0.conv2.weight', 'layer4.0.bn2.weight', 'layer4.0.bn2.bias', 'layer4.0.bn2.running_mean', 'layer4.0.bn2.running_var', 'layer4.0.bn2.num_batches_tracked', 'layer4.0.downsample.0.weight', 'layer4.0.downsample.0.bias', 'layer4.0.downsample.1.weight', 'layer4.0.downsample.1.bias', 'layer4.0.downsample.1.running_mean', 'layer4.0.downsample.1.running_var', 'layer4.0.downsample.1.num_batches_tracked', 'fc.weight', 'fc.bias']\n",
      "['conv1.weight', 'bn1.weight', 'bn1.bias', 'bn1.running_mean', 'bn1.running_var', 'bn1.num_batches_tracked', 'layer1.0.conv1.weight', 'layer1.0.bn1.weight', 'layer1.0.bn1.bias', 'layer1.0.bn1.running_mean', 'layer1.0.bn1.running_var', 'layer1.0.bn1.num_batches_tracked', 'layer1.0.conv2.weight', 'layer1.0.bn2.weight', 'layer1.0.bn2.bias', 'layer1.0.bn2.running_mean', 'layer1.0.bn2.running_var', 'layer1.0.bn2.num_batches_tracked', 'layer2.0.conv1.weight', 'layer2.0.bn1.weight', 'layer2.0.bn1.bias', 'layer2.0.bn1.running_mean', 'layer2.0.bn1.running_var', 'layer2.0.bn1.num_batches_tracked', 'layer2.0.conv2.weight', 'layer2.0.bn2.weight', 'layer2.0.bn2.bias', 'layer2.0.bn2.running_mean', 'layer2.0.bn2.running_var', 'layer2.0.bn2.num_batches_tracked', 'layer2.0.downsample.0.weight', 'layer2.0.downsample.0.bias', 'layer2.0.downsample.1.weight', 'layer2.0.downsample.1.bias', 'layer2.0.downsample.1.running_mean', 'layer2.0.downsample.1.running_var', 'layer2.0.downsample.1.num_batches_tracked', 'layer3.0.conv1.weight', 'layer3.0.bn1.weight', 'layer3.0.bn1.bias', 'layer3.0.bn1.running_mean', 'layer3.0.bn1.running_var', 'layer3.0.bn1.num_batches_tracked', 'layer3.0.conv2.weight', 'layer3.0.bn2.weight', 'layer3.0.bn2.bias', 'layer3.0.bn2.running_mean', 'layer3.0.bn2.running_var', 'layer3.0.bn2.num_batches_tracked', 'layer3.0.downsample.0.weight', 'layer3.0.downsample.0.bias', 'layer3.0.downsample.1.weight', 'layer3.0.downsample.1.bias', 'layer3.0.downsample.1.running_mean', 'layer3.0.downsample.1.running_var', 'layer3.0.downsample.1.num_batches_tracked', 'layer4.0.conv1.weight', 'layer4.0.bn1.weight', 'layer4.0.bn1.bias', 'layer4.0.bn1.running_mean', 'layer4.0.bn1.running_var', 'layer4.0.bn1.num_batches_tracked', 'layer4.0.conv2.weight', 'layer4.0.bn2.weight', 'layer4.0.bn2.bias', 'layer4.0.bn2.running_mean', 'layer4.0.bn2.running_var', 'layer4.0.bn2.num_batches_tracked', 'layer4.0.downsample.0.weight', 'layer4.0.downsample.0.bias', 'layer4.0.downsample.1.weight', 'layer4.0.downsample.1.bias', 'layer4.0.downsample.1.running_mean', 'layer4.0.downsample.1.running_var', 'layer4.0.downsample.1.num_batches_tracked', 'fc.weight', 'fc.bias', 'module.conv1.weight', 'module.bn1.weight', 'module.bn1.bias', 'module.bn1.running_mean', 'module.bn1.running_var', 'module.bn1.num_batches_tracked', 'module.layer1.0.conv1.weight', 'module.layer1.0.bn1.weight', 'module.layer1.0.bn1.bias', 'module.layer1.0.bn1.running_mean', 'module.layer1.0.bn1.running_var', 'module.layer1.0.bn1.num_batches_tracked', 'module.layer1.0.conv2.weight', 'module.layer1.0.bn2.weight', 'module.layer1.0.bn2.bias', 'module.layer1.0.bn2.running_mean', 'module.layer1.0.bn2.running_var', 'module.layer1.0.bn2.num_batches_tracked', 'module.layer2.0.conv1.weight', 'module.layer2.0.bn1.weight', 'module.layer2.0.bn1.bias', 'module.layer2.0.bn1.running_mean', 'module.layer2.0.bn1.running_var', 'module.layer2.0.bn1.num_batches_tracked', 'module.layer2.0.conv2.weight', 'module.layer2.0.bn2.weight', 'module.layer2.0.bn2.bias', 'module.layer2.0.bn2.running_mean', 'module.layer2.0.bn2.running_var', 'module.layer2.0.bn2.num_batches_tracked', 'module.layer2.0.downsample.0.weight', 'module.layer2.0.downsample.1.weight', 'module.layer2.0.downsample.1.bias', 'module.layer2.0.downsample.1.running_mean', 'module.layer2.0.downsample.1.running_var', 'module.layer2.0.downsample.1.num_batches_tracked', 'module.layer3.0.conv1.weight', 'module.layer3.0.bn1.weight', 'module.layer3.0.bn1.bias', 'module.layer3.0.bn1.running_mean', 'module.layer3.0.bn1.running_var', 'module.layer3.0.bn1.num_batches_tracked', 'module.layer3.0.conv2.weight', 'module.layer3.0.bn2.weight', 'module.layer3.0.bn2.bias', 'module.layer3.0.bn2.running_mean', 'module.layer3.0.bn2.running_var', 'module.layer3.0.bn2.num_batches_tracked', 'module.layer3.0.downsample.0.weight', 'module.layer3.0.downsample.1.weight', 'module.layer3.0.downsample.1.bias', 'module.layer3.0.downsample.1.running_mean', 'module.layer3.0.downsample.1.running_var', 'module.layer3.0.downsample.1.num_batches_tracked', 'module.layer4.0.conv1.weight', 'module.layer4.0.bn1.weight', 'module.layer4.0.bn1.bias', 'module.layer4.0.bn1.running_mean', 'module.layer4.0.bn1.running_var', 'module.layer4.0.bn1.num_batches_tracked', 'module.layer4.0.conv2.weight', 'module.layer4.0.bn2.weight', 'module.layer4.0.bn2.bias', 'module.layer4.0.bn2.running_mean', 'module.layer4.0.bn2.running_var', 'module.layer4.0.bn2.num_batches_tracked', 'module.layer4.0.downsample.0.weight', 'module.layer4.0.downsample.1.weight', 'module.layer4.0.downsample.1.bias', 'module.layer4.0.downsample.1.running_mean', 'module.layer4.0.downsample.1.running_var', 'module.layer4.0.downsample.1.num_batches_tracked']\n"
     ]
    },
    {
     "ename": "RuntimeError",
     "evalue": "Error(s) in loading state_dict for ResNet:\n\tUnexpected key(s) in state_dict: \"module.conv1.weight\", \"module.bn1.weight\", \"module.bn1.bias\", \"module.bn1.running_mean\", \"module.bn1.running_var\", \"module.bn1.num_batches_tracked\", \"module.layer1.0.conv1.weight\", \"module.layer1.0.bn1.weight\", \"module.layer1.0.bn1.bias\", \"module.layer1.0.bn1.running_mean\", \"module.layer1.0.bn1.running_var\", \"module.layer1.0.bn1.num_batches_tracked\", \"module.layer1.0.conv2.weight\", \"module.layer1.0.bn2.weight\", \"module.layer1.0.bn2.bias\", \"module.layer1.0.bn2.running_mean\", \"module.layer1.0.bn2.running_var\", \"module.layer1.0.bn2.num_batches_tracked\", \"module.layer2.0.conv1.weight\", \"module.layer2.0.bn1.weight\", \"module.layer2.0.bn1.bias\", \"module.layer2.0.bn1.running_mean\", \"module.layer2.0.bn1.running_var\", \"module.layer2.0.bn1.num_batches_tracked\", \"module.layer2.0.conv2.weight\", \"module.layer2.0.bn2.weight\", \"module.layer2.0.bn2.bias\", \"module.layer2.0.bn2.running_mean\", \"module.layer2.0.bn2.running_var\", \"module.layer2.0.bn2.num_batches_tracked\", \"module.layer2.0.downsample.0.weight\", \"module.layer2.0.downsample.1.weight\", \"module.layer2.0.downsample.1.bias\", \"module.layer2.0.downsample.1.running_mean\", \"module.layer2.0.downsample.1.running_var\", \"module.layer2.0.downsample.1.num_batches_tracked\", \"module.layer3.0.conv1.weight\", \"module.layer3.0.bn1.weight\", \"module.layer3.0.bn1.bias\", \"module.layer3.0.bn1.running_mean\", \"module.layer3.0.bn1.running_var\", \"module.layer3.0.bn1.num_batches_tracked\", \"module.layer3.0.conv2.weight\", \"module.layer3.0.bn2.weight\", \"module.layer3.0.bn2.bias\", \"module.layer3.0.bn2.running_mean\", \"module.layer3.0.bn2.running_var\", \"module.layer3.0.bn2.num_batches_tracked\", \"module.layer3.0.downsample.0.weight\", \"module.layer3.0.downsample.1.weight\", \"module.layer3.0.downsample.1.bias\", \"module.layer3.0.downsample.1.running_mean\", \"module.layer3.0.downsample.1.running_var\", \"module.layer3.0.downsample.1.num_batches_tracked\", \"module.layer4.0.conv1.weight\", \"module.layer4.0.bn1.weight\", \"module.layer4.0.bn1.bias\", \"module.layer4.0.bn1.running_mean\", \"module.layer4.0.bn1.running_var\", \"module.layer4.0.bn1.num_batches_tracked\", \"module.layer4.0.conv2.weight\", \"module.layer4.0.bn2.weight\", \"module.layer4.0.bn2.bias\", \"module.layer4.0.bn2.running_mean\", \"module.layer4.0.bn2.running_var\", \"module.layer4.0.bn2.num_batches_tracked\", \"module.layer4.0.downsample.0.weight\", \"module.layer4.0.downsample.1.weight\", \"module.layer4.0.downsample.1.bias\", \"module.layer4.0.downsample.1.running_mean\", \"module.layer4.0.downsample.1.running_var\", \"module.layer4.0.downsample.1.num_batches_tracked\". ",
     "output_type": "error",
     "traceback": [
      "\u001b[0;31m---------------------------------------------------------------------------\u001b[0m",
      "\u001b[0;31mRuntimeError\u001b[0m                              Traceback (most recent call last)",
      "\u001b[0;32m/tmp/ipykernel_1908135/3483422231.py\u001b[0m in \u001b[0;36m<module>\u001b[0;34m\u001b[0m\n\u001b[1;32m      3\u001b[0m \u001b[0mmodel_dict\u001b[0m\u001b[0;34m.\u001b[0m\u001b[0mupdate\u001b[0m\u001b[0;34m(\u001b[0m\u001b[0mweights_dict\u001b[0m\u001b[0;34m)\u001b[0m\u001b[0;34m\u001b[0m\u001b[0;34m\u001b[0m\u001b[0m\n\u001b[1;32m      4\u001b[0m \u001b[0mprint\u001b[0m\u001b[0;34m(\u001b[0m\u001b[0mlist\u001b[0m\u001b[0;34m(\u001b[0m\u001b[0mmodel_dict\u001b[0m\u001b[0;34m.\u001b[0m\u001b[0mkeys\u001b[0m\u001b[0;34m(\u001b[0m\u001b[0;34m)\u001b[0m\u001b[0;34m)\u001b[0m\u001b[0;34m)\u001b[0m\u001b[0;34m\u001b[0m\u001b[0;34m\u001b[0m\u001b[0m\n\u001b[0;32m----> 5\u001b[0;31m \u001b[0mnet\u001b[0m\u001b[0;34m.\u001b[0m\u001b[0mload_state_dict\u001b[0m\u001b[0;34m(\u001b[0m\u001b[0mmodel_dict\u001b[0m\u001b[0;34m)\u001b[0m\u001b[0;34m\u001b[0m\u001b[0;34m\u001b[0m\u001b[0m\n\u001b[0m",
      "\u001b[0;32m~/.conda/envs/conda-adlm/lib/python3.9/site-packages/torch/nn/modules/module.py\u001b[0m in \u001b[0;36mload_state_dict\u001b[0;34m(self, state_dict, strict)\u001b[0m\n\u001b[1;32m   2039\u001b[0m \u001b[0;34m\u001b[0m\u001b[0m\n\u001b[1;32m   2040\u001b[0m         \u001b[0;32mif\u001b[0m \u001b[0mlen\u001b[0m\u001b[0;34m(\u001b[0m\u001b[0merror_msgs\u001b[0m\u001b[0;34m)\u001b[0m \u001b[0;34m>\u001b[0m \u001b[0;36m0\u001b[0m\u001b[0;34m:\u001b[0m\u001b[0;34m\u001b[0m\u001b[0;34m\u001b[0m\u001b[0m\n\u001b[0;32m-> 2041\u001b[0;31m             raise RuntimeError('Error(s) in loading state_dict for {}:\\n\\t{}'.format(\n\u001b[0m\u001b[1;32m   2042\u001b[0m                                self.__class__.__name__, \"\\n\\t\".join(error_msgs)))\n\u001b[1;32m   2043\u001b[0m         \u001b[0;32mreturn\u001b[0m \u001b[0m_IncompatibleKeys\u001b[0m\u001b[0;34m(\u001b[0m\u001b[0mmissing_keys\u001b[0m\u001b[0;34m,\u001b[0m \u001b[0munexpected_keys\u001b[0m\u001b[0;34m)\u001b[0m\u001b[0;34m\u001b[0m\u001b[0;34m\u001b[0m\u001b[0m\n",
      "\u001b[0;31mRuntimeError\u001b[0m: Error(s) in loading state_dict for ResNet:\n\tUnexpected key(s) in state_dict: \"module.conv1.weight\", \"module.bn1.weight\", \"module.bn1.bias\", \"module.bn1.running_mean\", \"module.bn1.running_var\", \"module.bn1.num_batches_tracked\", \"module.layer1.0.conv1.weight\", \"module.layer1.0.bn1.weight\", \"module.layer1.0.bn1.bias\", \"module.layer1.0.bn1.running_mean\", \"module.layer1.0.bn1.running_var\", \"module.layer1.0.bn1.num_batches_tracked\", \"module.layer1.0.conv2.weight\", \"module.layer1.0.bn2.weight\", \"module.layer1.0.bn2.bias\", \"module.layer1.0.bn2.running_mean\", \"module.layer1.0.bn2.running_var\", \"module.layer1.0.bn2.num_batches_tracked\", \"module.layer2.0.conv1.weight\", \"module.layer2.0.bn1.weight\", \"module.layer2.0.bn1.bias\", \"module.layer2.0.bn1.running_mean\", \"module.layer2.0.bn1.running_var\", \"module.layer2.0.bn1.num_batches_tracked\", \"module.layer2.0.conv2.weight\", \"module.layer2.0.bn2.weight\", \"module.layer2.0.bn2.bias\", \"module.layer2.0.bn2.running_mean\", \"module.layer2.0.bn2.running_var\", \"module.layer2.0.bn2.num_batches_tracked\", \"module.layer2.0.downsample.0.weight\", \"module.layer2.0.downsample.1.weight\", \"module.layer2.0.downsample.1.bias\", \"module.layer2.0.downsample.1.running_mean\", \"module.layer2.0.downsample.1.running_var\", \"module.layer2.0.downsample.1.num_batches_tracked\", \"module.layer3.0.conv1.weight\", \"module.layer3.0.bn1.weight\", \"module.layer3.0.bn1.bias\", \"module.layer3.0.bn1.running_mean\", \"module.layer3.0.bn1.running_var\", \"module.layer3.0.bn1.num_batches_tracked\", \"module.layer3.0.conv2.weight\", \"module.layer3.0.bn2.weight\", \"module.layer3.0.bn2.bias\", \"module.layer3.0.bn2.running_mean\", \"module.layer3.0.bn2.running_var\", \"module.layer3.0.bn2.num_batches_tracked\", \"module.layer3.0.downsample.0.weight\", \"module.layer3.0.downsample.1.weight\", \"module.layer3.0.downsample.1.bias\", \"module.layer3.0.downsample.1.running_mean\", \"module.layer3.0.downsample.1.running_var\", \"module.layer3.0.downsample.1.num_batches_tracked\", \"module.layer4.0.conv1.weight\", \"module.layer4.0.bn1.weight\", \"module.layer4.0.bn1.bias\", \"module.layer4.0.bn1.running_mean\", \"module.layer4.0.bn1.running_var\", \"module.layer4.0.bn1.num_batches_tracked\", \"module.layer4.0.conv2.weight\", \"module.layer4.0.bn2.weight\", \"module.layer4.0.bn2.bias\", \"module.layer4.0.bn2.running_mean\", \"module.layer4.0.bn2.running_var\", \"module.layer4.0.bn2.num_batches_tracked\", \"module.layer4.0.downsample.0.weight\", \"module.layer4.0.downsample.1.weight\", \"module.layer4.0.downsample.1.bias\", \"module.layer4.0.downsample.1.running_mean\", \"module.layer4.0.downsample.1.running_var\", \"module.layer4.0.downsample.1.num_batches_tracked\". "
     ]
    }
   ],
   "source": [
    "model_dict = net.state_dict()\n",
    "print(list(model_dict.keys()))\n",
    "model_dict.update(weights_dict)\n",
    "print(list(model_dict.keys()))\n",
    "net.load_state_dict(model_dict)"
   ]
  }
 ],
 "metadata": {
  "kernelspec": {
   "display_name": "conda-adlm",
   "language": "python",
   "name": "python3"
  },
  "language_info": {
   "codemirror_mode": {
    "name": "ipython",
    "version": 3
   },
   "file_extension": ".py",
   "mimetype": "text/x-python",
   "name": "python",
   "nbconvert_exporter": "python",
   "pygments_lexer": "ipython3",
   "version": "3.9.7"
  },
  "orig_nbformat": 4
 },
 "nbformat": 4,
 "nbformat_minor": 2
}
