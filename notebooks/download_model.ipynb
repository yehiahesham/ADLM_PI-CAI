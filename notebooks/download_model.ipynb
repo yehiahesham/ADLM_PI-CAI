{
 "cells": [
  {
   "cell_type": "code",
   "execution_count": 1,
   "metadata": {},
   "outputs": [],
   "source": [
    "import gdown"
   ]
  },
  {
   "cell_type": "code",
   "execution_count": 2,
   "metadata": {},
   "outputs": [
    {
     "name": "stderr",
     "output_type": "stream",
     "text": [
      "Downloading...\n",
      "From (uriginal): https://drive.google.com/uc?id=13tnSvXY7oDIEloNFiGTsjUIYfS3g3BfG\n",
      "From (redirected): https://drive.google.com/uc?id=13tnSvXY7oDIEloNFiGTsjUIYfS3g3BfG&confirm=t&uuid=31a093c2-9440-4967-85f7-b84deac6a8b5\n",
      "To: /u/home/seel/ADLM/adlm_ss2023_mmcl/notebooks/MedicalNet_pytorch_files2.zip\n",
      "100%|██████████| 2.80G/2.80G [01:58<00:00, 23.5MB/s]\n"
     ]
    },
    {
     "data": {
      "text/plain": [
       "'MedicalNet_pytorch_files2.zip'"
      ]
     },
     "execution_count": 2,
     "metadata": {},
     "output_type": "execute_result"
    }
   ],
   "source": [
    "url = \"https://drive.google.com/uc?id=1l_5RK28JRL19wpT22B-DY9We3TVXnnQQ\"\n",
    "url = \"https://drive.google.com/uc?id=13tnSvXY7oDIEloNFiGTsjUIYfS3g3BfG\"\n",
    "output = \"test.zip\"\n",
    "gdown.download(url, quiet=False)"
   ]
  }
 ],
 "metadata": {
  "kernelspec": {
   "display_name": "conda-adlm",
   "language": "python",
   "name": "python3"
  },
  "language_info": {
   "codemirror_mode": {
    "name": "ipython",
    "version": 3
   },
   "file_extension": ".py",
   "mimetype": "text/x-python",
   "name": "python",
   "nbconvert_exporter": "python",
   "pygments_lexer": "ipython3",
   "version": "3.9.7"
  },
  "orig_nbformat": 4
 },
 "nbformat": 4,
 "nbformat_minor": 2
}
