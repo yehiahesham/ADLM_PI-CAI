{
 "cells": [
  {
   "cell_type": "code",
   "execution_count": 12,
   "metadata": {},
   "outputs": [],
   "source": [
    "import numpy as np\n",
    "import matplotlib.pyplot as plt\n",
    "from medpy import io\n",
    "from radiomics import featureextractor, imageoperations\n",
    "import six\n",
    "import os\n",
    "import pandas as pd\n",
    "import SimpleITK as sitk\n",
    "import seaborn as sns\n",
    "from sklearn.metrics import roc_auc_score\n",
    "\n",
    "import math\n",
    "\n",
    "def get_image_and_segmentaion(patient_id, study_id, modality = \"t2w\"):\n",
    "    if not isinstance(patient_id, str):\n",
    "        patient_id = str(patient_id)\n",
    "\n",
    "    if not isinstance(study_id, str):\n",
    "        study_id = str(study_id)\n",
    "    \n",
    "    image = None\n",
    "    segmentation = None\n",
    "    for file in os.listdir(data_path + patient_id + \"/\"):\n",
    "        string = \"{0}_{1}_{2}.mha\".format(patient_id,study_id,modality)\n",
    "        if string == file:\n",
    "            if study_id in file:\n",
    "                image = sitk.ReadImage(data_path + patient_id + \"/\" +  file, sitk.sitkFloat32)\n",
    "                path_image = data_path + patient_id + \"/\" +  file\n",
    "\n",
    "    for file in os.listdir(seg_guer_path):\n",
    "        if patient_id+\"_\"+study_id + \".nii.gz\" == file:\n",
    "            \n",
    "            segmentation = sitk.ReadImage(seg_guer_path + file, sitk.sitkUInt8)\n",
    "            path_mask = seg_guer_path + file\n",
    "\n",
    "    return (image, segmentation)\n",
    "\n",
    "def plot_sitk(sitk_obj, mask=None):\n",
    "\n",
    "    pixel_array = sitk.GetArrayFromImage(sitk_obj)\n",
    "    \n",
    "    columns = 5\n",
    "    rows = math.ceil(pixel_array.shape[0] / columns)\n",
    "\n",
    "    fig = plt.figure(figsize=(20,rows*4))\n",
    "\n",
    "    for i in range(pixel_array.shape[0]):\n",
    "        #im = data[:,:,i]\n",
    "        #mask = \n",
    "        fig.add_subplot(rows, columns, i+1)\n",
    "        plt.imshow(pixel_array[i], cmap=\"gray\", interpolation=\"none\")\n",
    "        if mask is not None:\n",
    "            array = sitk.GetArrayFromImage(mask)\n",
    "            plt.imshow(array[i], cmap=\"Reds\", alpha = 0.9*(array[i]>0), interpolation=\"none\")\n",
    "\n",
    "data_path = \"/data1/practical-sose23/morphometric/data/\"\n",
    "seg_guer_path = \"/data1/practical-sose23/morphometric/picai_labels/anatomical_delineations/whole_gland/AI/Guerbet23/\"\n",
    "seg_bosma_path = \"/data1/practical-sose23/morphometric/picai_labels/anatomical_delineations/whole_gland/AI/Bosma22b/\""
   ]
  },
  {
   "cell_type": "code",
   "execution_count": 19,
   "metadata": {},
   "outputs": [],
   "source": [
    "patient = 10010\n",
    "study = 1000010\n",
    "\n",
    "t2w_image, mask = get_image_and_segmentaion(patient, study, \"t2w\")\n",
    "adc_image, mask = get_image_and_segmentaion(patient, study, \"adc\")"
   ]
  },
  {
   "cell_type": "code",
   "execution_count": 20,
   "metadata": {},
   "outputs": [
    {
     "name": "stdout",
     "output_type": "stream",
     "text": [
      "(-85.58146266535, -142.07086996919, -28.491073594095)\n",
      "(-62.611289988486, -109.44163600357, -31.266651149489)\n"
     ]
    }
   ],
   "source": [
    "print(adc_image.GetOrigin())\n",
    "print(t2w_image.GetOrigin())"
   ]
  },
  {
   "cell_type": "code",
   "execution_count": 21,
   "metadata": {},
   "outputs": [],
   "source": [
    "def resample_mask(image, mask):\n",
    "    resample = sitk.ResampleImageFilter()\n",
    "    resample.SetInterpolator = sitk.sitkNearestNeighbor\n",
    "\n",
    "    resample.SetOutputOrigin(image.GetOrigin())\n",
    "    resample.SetOutputDirection(image.GetDirection())\n",
    "\n",
    "    resample.SetSize(image.GetSize()) \n",
    "    resample.SetOutputSpacing(image.GetSpacing())\n",
    "    \n",
    "\n",
    "\n",
    "    resample_mask = resample.Execute(mask)\n",
    "\n",
    "    return resample_mask\n",
    "  "
   ]
  },
  {
   "cell_type": "code",
   "execution_count": null,
   "metadata": {},
   "outputs": [],
   "source": [
    "new_mask = resample_mask(adc_image, mask)\n",
    "plot_sitk(adc_image, new_mask)"
   ]
  },
  {
   "cell_type": "code",
   "execution_count": 30,
   "metadata": {},
   "outputs": [],
   "source": [
    "seg_guer_path_resample = \"/data1/practical-sose23/morphometric/picai_labels/anatomical_delineations/whole_gland/AI/Guerbet23_resampled/\""
   ]
  },
  {
   "cell_type": "code",
   "execution_count": 36,
   "metadata": {},
   "outputs": [
    {
     "name": "stdout",
     "output_type": "stream",
     "text": [
      "1499\r"
     ]
    }
   ],
   "source": [
    "gt = pd.read_csv(\"/data1/practical-sose23/morphometric/picai_labels/clinical_information/marksheet.csv\")\n",
    "for index,row in gt.iterrows():\n",
    "    print(index, end=\"\\r\")\n",
    "    patient = str(row[\"patient_id\"])\n",
    "    study = str(row[\"study_id\"])\n",
    "    adc_image, mask = get_image_and_segmentaion(patient, study, \"adc\")\n",
    "    new_mask = resample_mask(adc_image, mask)\n",
    "\n",
    "    writer = sitk.ImageFileWriter()\n",
    "    writer.SetFileName(seg_guer_path_resample + patient + \"_\" + study +\".nii.gz\")\n",
    "    writer.Execute(new_mask)\n"
   ]
  }
 ],
 "metadata": {
  "kernelspec": {
   "display_name": "conda-adlm",
   "language": "python",
   "name": "python3"
  },
  "language_info": {
   "codemirror_mode": {
    "name": "ipython",
    "version": 3
   },
   "file_extension": ".py",
   "mimetype": "text/x-python",
   "name": "python",
   "nbconvert_exporter": "python",
   "pygments_lexer": "ipython3",
   "version": "3.9.7"
  },
  "orig_nbformat": 4
 },
 "nbformat": 4,
 "nbformat_minor": 2
}
