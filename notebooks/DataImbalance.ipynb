{
 "cells": [
  {
   "cell_type": "code",
   "execution_count": 1,
   "metadata": {},
   "outputs": [
    {
     "name": "stdout",
     "output_type": "stream",
     "text": [
      "/u/home/ahy/adlm_ss2023_mmcl/notebooks\n"
     ]
    }
   ],
   "source": [
    "import os,sys\n",
    "print(os.getcwd())\n",
    "os.chdir())\n",
    "print(os.getcwd())\n",
    "# sys.path.append('..')\n",
    "# from data_scripts.PI_CAI_Detection import PI_CAI_Detection"
   ]
  },
  {
   "cell_type": "code",
   "execution_count": null,
   "metadata": {},
   "outputs": [],
   "source": [
    "import os, random, time, sys\n",
    "# import imblearn\n",
    "import skimage.data\n",
    "import skimage.transform\n",
    "import torch, torchvision\n",
    "import matplotlib.pyplot as plt\n",
    "import SimpleITK as sitk\n",
    "import numpy as np\n",
    "import pandas as pd\n",
    "\n",
    "import torch.optim as optim\n",
    "import torch.nn as nn \n",
    "import torch.utils.data as data\n",
    "\n",
    "from torch.utils.data import DataLoader\n",
    "from torchvision.utils import save_image\n",
    "from torchvision import transforms \n",
    "from PIL import Image\n",
    "from collections import Counter\n",
    "from datetime import datetime\n",
    "sys.path.append('..')\n",
    "from data_scripts.PI_CAI_Detection import PI_CAI_Detection\n",
    "\n",
    "#from torchsummary import summary\n",
    "from torchmetrics.classification import MulticlassCalibrationError\n",
    "from torchmetrics.classification import BinaryCalibrationError\n",
    "from sklearn.metrics import confusion_matrix\n",
    "from sklearn.metrics import classification_report\n",
    "from sklearn.metrics import ConfusionMatrixDisplay\n",
    "from sklearn.metrics import multilabel_confusion_matrix"
   ]
  },
  {
   "cell_type": "code",
   "execution_count": 14,
   "metadata": {},
   "outputs": [],
   "source": [
    "%load_ext autoreload\n",
    "%autoreload 2\n",
    "os.environ[\"CUDA_VISIBLE_DEVICES\"] = \"7\"\n",
    "DO_TRAINNING=True\n",
    "TRAIN_TRAIN_EPOCHS=10\n",
    "labels_path='/data1/practical-sose23/morphometric/picai_labels'\n",
    "image_path='/data1/practical-sose23/morphometric/data'\n",
    "modalities=[\"t2w\"]\n",
    "targetVoxelShape= (1.0, 1.0, 3.0) #(0.5, 0.5, 3.0)#(1,1,1) #EXP1: STUPID RESULTS\n",
    "targetimageSize = [350, 350, 45]#(500,500,50)\n",
    "multiModel=False\n",
    "useAI_Segmentation=False\n",
    "biasFeildCorrection=False\n",
    "toShuffle = False\n",
    "batchSize = 30\n",
    "\n",
    "imageOutput_path= '/u/home/ahy/adlm_ss2023_mmcl/images'"
   ]
  },
  {
   "attachments": {},
   "cell_type": "markdown",
   "metadata": {},
   "source": [
    "## Loading Data"
   ]
  },
  {
   "cell_type": "code",
   "execution_count": 3,
   "metadata": {},
   "outputs": [],
   "source": [
    "dataset = PI_CAI_Detection(image_path,labels_path,modalities,\\\n",
    "                            multiModel,useAI_Segmentation,biasFeildCorrection,\\\n",
    "                            targetVoxelShape,targetimageSize)\n",
    "loader = DataLoader(dataset,batch_size=batchSize,shuffle=toShuffle,num_workers=4)"
   ]
  },
  {
   "attachments": {},
   "cell_type": "markdown",
   "metadata": {},
   "source": [
    "#### Visualizing the Data Distribution BEFORE fixing the Data Imbalance"
   ]
  },
  {
   "cell_type": "code",
   "execution_count": 5,
   "metadata": {},
   "outputs": [],
   "source": [
    "# train_Lables=[]\n",
    "# for _,_,batch_labels in loader:\n",
    "#     train_Lables.extend(batch_labels)\n",
    "\n",
    "train_Lables = dataset.get_Lables()"
   ]
  },
  {
   "cell_type": "code",
   "execution_count": 8,
   "metadata": {},
   "outputs": [
    {
     "name": "stdout",
     "output_type": "stream",
     "text": [
      "Original Training Data Distribution\n",
      "minorty_class=1,\tminorty_count=220\n",
      "majorty_class=0,\tmajorty_count=1075\n",
      "Image stored at: /u/home/ahy/adlm_ss2023_mmcl/images/Original_Data_Distribution.png\n",
      "2023-06-02, 11:40:49 Data Distr. Plotted\n"
     ]
    },
    {
     "data": {
      "image/png": "[encoded data removed]",
      "text/plain": [
       "<Figure size 432x288 with 1 Axes>"
      ]
     },
     "metadata": {
      "needs_background": "light"
     },
     "output_type": "display_data"
    }
   ],
   "source": [
    "counter_train_original = Counter(train_Lables)\n",
    "dataset_minorty_class,dataset_minorty_count = counter_train_original.most_common()[-1]  # least common\n",
    "dataset_majorty_class,dataset_majorty_count = counter_train_original.most_common()[0]   # most  common\n",
    "print(\"Original Training Data Distribution\")\n",
    "print(f'minorty_class={dataset_minorty_class},\\tminorty_count={dataset_minorty_count}')\n",
    "print(f'majorty_class={dataset_majorty_class},\\tmajorty_count={dataset_majorty_count}')\n",
    "\n",
    "plt.bar(counter_train_original.keys(), counter_train_original.values())\n",
    "plt.axhline(np.mean(list(counter_train_original.values())), color='red', linestyle='dashed', linewidth=1)\n",
    "plt.title(\"Original Training Data Distribution\")\n",
    "plt.xlabel(\"Class ID\")\n",
    "plt.ylabel(\"# of examples\")\n",
    "\n",
    "imagename = str(\"%s/Original_Data_Distribution.png\"%(imageOutput_path))\n",
    "plt.savefig(imagename, bbox_inches = 'tight', pad_inches=0.5)\n",
    "print(\"Image stored at: %s\"%imagename)\n",
    "\n",
    "now = datetime.now() # current date and time\n",
    "print(now.strftime(\"%Y-%m-%d, %H:%M:%S\"),\"Data Distr. Plotted\")"
   ]
  },
  {
   "attachments": {},
   "cell_type": "markdown",
   "metadata": {},
   "source": [
    "## WeightedRandomSampler to solve the data Imbalance\n",
    "using weights as probabilities to sample more from the minority class than the majority class"
   ]
  },
  {
   "cell_type": "code",
   "execution_count": 9,
   "metadata": {},
   "outputs": [],
   "source": [
    "# Code ref: https://discuss.pytorch.org/t/how-to-handle-imbalanced-classes/11264/2\n",
    "\n",
    "# Compute samples weight (each sample should get its own weight)\n",
    "class_sample_count = np.unique(train_Lables, return_counts=True)[1]\n",
    "weight = 1. / class_sample_count\n",
    "samples_weight = weight[train_Lables]\n",
    "WeightedRandomSampler = data.sampler.WeightedRandomSampler(samples_weight, len(samples_weight))"
   ]
  },
  {
   "cell_type": "code",
   "execution_count": 10,
   "metadata": {},
   "outputs": [],
   "source": [
    "loader_WeightedRandomSampler = DataLoader(dataset, batch_size=batchSize,\n",
    "                          shuffle=toShuffle, sampler=WeightedRandomSampler, num_workers=4)\n",
    "\n",
    "# Based on :  https://discuss.pytorch.org/t/apply-weightedrandomsampler-to-validation-test-splits-makes-sense/93733/2\n",
    "# it makes sense to only adjust the trainning split and ignore both validation and testing set. \n",
    "# Thus we train on different data, but we use same validation and testing sets as before.\n",
    "\n",
    "# loader_val_WeightedRandomSampler = data.DataLoader(val_data, batch_size=BATCH_SIZE,\n",
    "#                         shuffle=False, sampler=WeightedRandomSampler, num_workers=4)"
   ]
  },
  {
   "cell_type": "code",
   "execution_count": 11,
   "metadata": {},
   "outputs": [
    {
     "name": "stderr",
     "output_type": "stream",
     "text": [
      "/u/home/ahy/.conda/envs/morph_2/lib/python3.9/site-packages/torch/_tensor.py:1295: UserWarning: TypedStorage is deprecated. It will be removed in the future and UntypedStorage will be the only storage class. This should only matter to you if you are using storages directly.  To access UntypedStorage directly, use tensor.untyped_storage() instead of tensor.storage()\n",
      "  ret = func(*args, **kwargs)\n",
      "/u/home/ahy/.conda/envs/morph_2/lib/python3.9/site-packages/monai/data/__init__.py:120: UserWarning: TypedStorage is deprecated. It will be removed in the future and UntypedStorage will be the only storage class. This should only matter to you if you are using storages directly.  To access UntypedStorage directly, use tensor.untyped_storage() instead of tensor.storage()\n",
      "  t = cls([], dtype=storage.dtype, device=storage.device)\n",
      "/u/home/ahy/.conda/envs/morph_2/lib/python3.9/site-packages/torch/_tensor.py:1295: UserWarning: TypedStorage is deprecated. It will be removed in the future and UntypedStorage will be the only storage class. This should only matter to you if you are using storages directly.  To access UntypedStorage directly, use tensor.untyped_storage() instead of tensor.storage()\n",
      "  ret = func(*args, **kwargs)\n",
      "/u/home/ahy/.conda/envs/morph_2/lib/python3.9/site-packages/torch/_tensor.py:1295: UserWarning: TypedStorage is deprecated. It will be removed in the future and UntypedStorage will be the only storage class. This should only matter to you if you are using storages directly.  To access UntypedStorage directly, use tensor.untyped_storage() instead of tensor.storage()\n",
      "  ret = func(*args, **kwargs)\n",
      "/u/home/ahy/.conda/envs/morph_2/lib/python3.9/site-packages/torch/_tensor.py:1295: UserWarning: TypedStorage is deprecated. It will be removed in the future and UntypedStorage will be the only storage class. This should only matter to you if you are using storages directly.  To access UntypedStorage directly, use tensor.untyped_storage() instead of tensor.storage()\n",
      "  ret = func(*args, **kwargs)\n"
     ]
    }
   ],
   "source": [
    "train_weighted_Lables=[]\n",
    "for _,_,batch_labels in loader_WeightedRandomSampler:\n",
    "    train_weighted_Lables.extend(batch_labels)"
   ]
  },
  {
   "attachments": {},
   "cell_type": "markdown",
   "metadata": {},
   "source": [
    "#### Visualizing the Data Distribution AFTER fixing the Data Imbalance"
   ]
  },
  {
   "cell_type": "code",
   "execution_count": 15,
   "metadata": {},
   "outputs": [
    {
     "name": "stdout",
     "output_type": "stream",
     "text": [
      "Weighted Random Sampler Training Data Distribution\n",
      "minorty_class=1,\tminorty_count=639\n",
      "majorty_class=0,\tmajorty_count=656\n",
      "Image stored at: /u/home/ahy/adlm_ss2023_mmcl/images/OriginalVsRandomWeighted_train_Data_distribution.png\n",
      "2023-06-02, 12:07:46 Original Vs RandomWeighted Data distribution Plotted\n"
     ]
    },
    {
     "data": {
      "image/png": "[encoded data removed]",
      "text/plain": [
       "<Figure size 1080x360 with 2 Axes>"
      ]
     },
     "metadata": {
      "needs_background": "light"
     },
     "output_type": "display_data"
    }
   ],
   "source": [
    "fig, axs = plt.subplots(1,2, figsize=(15, 5))\n",
    "counter_train_WeightedRandomSampler = Counter([i.item() for i in train_weighted_Lables])\n",
    "dataset_minorty_class,dataset_minorty_count = counter_train_WeightedRandomSampler.most_common()[-1]  # least common\n",
    "dataset_majorty_class,dataset_majorty_count = counter_train_WeightedRandomSampler.most_common()[0]   # most  common\n",
    "print(\"Weighted Random Sampler Training Data Distribution\")\n",
    "print(f'minorty_class={dataset_minorty_class},\\tminorty_count={dataset_minorty_count}')\n",
    "print(f'majorty_class={dataset_majorty_class},\\tmajorty_count={dataset_majorty_count}')\n",
    "\n",
    "axs[0].bar(counter_train_original.keys(), counter_train_original.values())\n",
    "axs[0].axhline(np.mean(list(counter_train_original.values())), color='red', linestyle='dashed', linewidth=1)\n",
    "axs[0].set_title(\"Original Training Data Distribution\")\n",
    "axs[0].set_xlabel(\"Class ID\")\n",
    "axs[0].set_ylabel(\"# of examples\")\n",
    "\n",
    "\n",
    "axs[1].bar(counter_train_WeightedRandomSampler.keys(), counter_train_WeightedRandomSampler.values())\n",
    "axs[1].axhline(np.mean(list(counter_train_WeightedRandomSampler.values())), color='red', linestyle='dashed', linewidth=1)\n",
    "axs[1].set_title(\"Weighted Random Sampler Training Data Distribution\")\n",
    "axs[1].set_xlabel(\"Class ID\")\n",
    "axs[1].set_ylabel(\"# of examples\")\n",
    "\n",
    "# save plot\n",
    "imagename = str(\"%s/OriginalVsRandomWeighted_train_Data_distribution.png\"%(imageOutput_path))\n",
    "plt.savefig(imagename, bbox_inches = 'tight', pad_inches=0.5)\n",
    "print(\"Image stored at: %s\"%imagename)\n",
    "\n",
    "now = datetime.now() # current date and time\n",
    "print(now.strftime(\"%Y-%m-%d, %H:%M:%S\"),\"Original Vs RandomWeighted Data distribution Plotted\")"
   ]
  },
  {
   "cell_type": "code",
   "execution_count": 13,
   "metadata": {},
   "outputs": [
    {
     "name": "stdout",
     "output_type": "stream",
     "text": [
      "True\n",
      "1\n",
      "0\n",
      "<torch.cuda.device object at 0x7f71b0fd7e50>\n",
      "Using device: cuda\n",
      "\n",
      "NVIDIA A40\n",
      "Memory Usage:\n",
      "Allocated: 0.0 GB\n",
      "Cached:    0.0 GB\n"
     ]
    }
   ],
   "source": [
    "print(torch.cuda.is_available())\n",
    "print(torch.cuda.device_count())\n",
    "print(torch.cuda.current_device())\n",
    "print(torch.cuda.device(0))\n",
    "\n",
    "device = torch.device('cuda' if torch.cuda.is_available() else 'cpu')\n",
    "print('Using device:', device)\n",
    "print()\n",
    "\n",
    "#Additional Info when using cuda\n",
    "if device.type == 'cuda':\n",
    "    print(torch.cuda.get_device_name(0))\n",
    "    print('Memory Usage:')\n",
    "    print('Allocated:', round(torch.cuda.memory_allocated(0)/1024**3,1), 'GB')\n",
    "    print('Cached:   ', round(torch.cuda.memory_reserved(0)/1024**3,1), 'GB') "
   ]
  },
  {
   "cell_type": "code",
   "execution_count": null,
   "metadata": {},
   "outputs": [],
   "source": [
    "\n",
    "generator1 = torch.Generator().manual_seed(42)\n",
    "train, val, test = utils.data.random_split(dataset, [0.6, 0.2, 0.2], generator=generator1)\n",
    "train_loader = DataLoader(train,batch_size=batchSize,shuffle=toShuffle, num_workers=4)#, sampler=WeightedRandomSampler)\n",
    "val_loader = DataLoader(val,batch_size=batchSize,shuffle=toShuffle, num_workers=4)\n",
    "test_loader = DataLoader(test,batch_size=batchSize,shuffle=toShuffle, num_workers=4)\n"
   ]
  },
  {
   "cell_type": "code",
   "execution_count": null,
   "metadata": {},
   "outputs": [],
   "source": [
    "def plot(img):\n",
    "    pixel_array = img.numpy()    \n",
    "    # pixel_array.premute()\n",
    "    \n",
    "    columns = 5\n",
    "    rows = math.ceil(pixel_array.shape[0] / columns)\n",
    "    fig = plt.figure(figsize=(50,rows*10))\n",
    "\n",
    "    for i in range(pixel_array.shape[0]):\n",
    "        fig.add_subplot(rows, columns, i+1)\n",
    "        plt.imshow(pixel_array[i], cmap=\"gray\", interpolation=\"none\")\n"
   ]
  },
  {
   "cell_type": "code",
   "execution_count": null,
   "metadata": {},
   "outputs": [],
   "source": [
    "import monai\n",
    "from monai.networks.nets import resnet10, resnet18, resnet50\n",
    "model = resnet10(pretrained=False, n_input_channels = 1, num_classes = 1)\n"
   ]
  },
  {
   "attachments": {},
   "cell_type": "markdown",
   "metadata": {},
   "source": [
    "## Create some Model"
   ]
  },
  {
   "cell_type": "code",
   "execution_count": 68,
   "metadata": {},
   "outputs": [
    {
     "ename": "ModuleNotFoundError",
     "evalue": "No module named 'lightning'",
     "output_type": "error",
     "traceback": [
      "\u001b[0;31m---------------------------------------------------------------------------\u001b[0m",
      "\u001b[0;31mModuleNotFoundError\u001b[0m                       Traceback (most recent call last)",
      "\u001b[0;32m/tmp/ipykernel_1163594/3704024060.py\u001b[0m in \u001b[0;36m<module>\u001b[0;34m\u001b[0m\n\u001b[0;32m----> 1\u001b[0;31m \u001b[0;32mimport\u001b[0m \u001b[0mlightning\u001b[0m\u001b[0;34m.\u001b[0m\u001b[0mpytorch\u001b[0m \u001b[0;32mas\u001b[0m \u001b[0mpl\u001b[0m\u001b[0;34m\u001b[0m\u001b[0;34m\u001b[0m\u001b[0m\n\u001b[0m\u001b[1;32m      2\u001b[0m \u001b[0;31m# define any number of nn.Modules (or use your current ones)\u001b[0m\u001b[0;34m\u001b[0m\u001b[0;34m\u001b[0m\u001b[0m\n\u001b[1;32m      3\u001b[0m encoder = nn.Sequential(\n\u001b[1;32m      4\u001b[0m     \u001b[0mnn\u001b[0m\u001b[0;34m.\u001b[0m\u001b[0mConv3d\u001b[0m\u001b[0;34m(\u001b[0m\u001b[0;36m1\u001b[0m\u001b[0;34m,\u001b[0m \u001b[0;36m10\u001b[0m\u001b[0;34m,\u001b[0m \u001b[0;36m3\u001b[0m\u001b[0;34m,\u001b[0m \u001b[0mpadding\u001b[0m \u001b[0;34m=\u001b[0m \u001b[0;36m1\u001b[0m\u001b[0;34m)\u001b[0m\u001b[0;34m,\u001b[0m\u001b[0;34m\u001b[0m\u001b[0;34m\u001b[0m\u001b[0m\n\u001b[1;32m      5\u001b[0m     \u001b[0mnn\u001b[0m\u001b[0;34m.\u001b[0m\u001b[0mReLU\u001b[0m\u001b[0;34m(\u001b[0m\u001b[0;34m)\u001b[0m\u001b[0;34m,\u001b[0m\u001b[0;34m\u001b[0m\u001b[0;34m\u001b[0m\u001b[0m\n",
      "\u001b[0;31mModuleNotFoundError\u001b[0m: No module named 'lightning'"
     ]
    }
   ],
   "source": [
    "import lightning.pytorch as pl\n",
    "# define any number of nn.Modules (or use your current ones)\n",
    "encoder = nn.Sequential(\n",
    "    nn.Conv3d(1, 10, 3, padding = 1), \n",
    "    nn.ReLU(), \n",
    "    nn.MaxPool3d(2), \n",
    "    nn.Conv3d(10, 20, 3, padding = 1), \n",
    "    nn.ReLU(), \n",
    "    nn.MaxPool3d(2),\n",
    "    nn.Conv3d(20, 20, 3, padding = 1), \n",
    "    nn.ReLU(), \n",
    "    nn.MaxPool3d(2),\n",
    "    )\n",
    "classifier = nn.Sequential(nn.Linear(184900, 5), nn.ReLU(), nn.Linear(5, 1), nn.Sigmoid())\n",
    "\n",
    "\n",
    "# define the LightningModule\n",
    "class Simple_Classifier(pl.LightningModule):\n",
    "    def __init__(self, encoder, classif, loss=nn.BCELoss()):\n",
    "        super().__init__()\n",
    "        self.encoder = encoder\n",
    "        self.classif = classif\n",
    "        self.loss = loss\n",
    "        self.image = image\n",
    "        self.target = target\n",
    "\n",
    "    def training_step(self, batch, batch_idx):\n",
    "        # training_step defines the train loop.\n",
    "        # it is independent of forward\n",
    "        x, y = batch\n",
    "        x = torch.unsqueeze(x,1)\n",
    "        z = self.encoder(x)\n",
    "        z = z.view(z.size(0), -1)\n",
    "        x_hat = self.classif(z).squeeze(0)\n",
    "\n",
    "        loss = self.loss(x_hat, y)\n",
    "        # Logging to TensorBoard (if installed) by default\n",
    "        self.log(\"train_loss\", loss)\n",
    "        return loss\n",
    "\n",
    "    def configure_optimizers(self):\n",
    "        optimizer = optim.Adam(self.parameters(), lr=1e-3)\n",
    "        return optimizer\n",
    "\n",
    "\n",
    "# init the autoencoder\n",
    "classifier_model = Simple_Classifier(encoder, classifier)"
   ]
  },
  {
   "attachments": {},
   "cell_type": "markdown",
   "metadata": {},
   "source": [
    "## Train Data Balanced UniModal Model"
   ]
  },
  {
   "cell_type": "code",
   "execution_count": null,
   "metadata": {},
   "outputs": [],
   "source": [
    "trainer.fit(model=classifier_model, train_dataloaders=loader_WeightedRandomSampler)"
   ]
  },
  {
   "attachments": {},
   "cell_type": "markdown",
   "metadata": {},
   "source": [
    "## trainning without PL Lightning , work in progress"
   ]
  },
  {
   "attachments": {},
   "cell_type": "markdown",
   "metadata": {},
   "source": []
  },
  {
   "attachments": {},
   "cell_type": "markdown",
   "metadata": {},
   "source": []
  },
  {
   "cell_type": "code",
   "execution_count": null,
   "metadata": {},
   "outputs": [],
   "source": [
    "if DO_TRAINNING:\n",
    "    # List to save training and val loss and accuracies\n",
    "    train_loss_list = [0]*TRAIN_EPOCHS\n",
    "    train_acc_list = [0]*TRAIN_EPOCHS\n",
    "    val_loss_list = [0]*TRAIN_EPOCHS\n",
    "    val_acc_list = [0]*TRAIN_EPOCHS\n",
    "\n",
    "    for epoch in range(TRAIN_EPOCHS):\n",
    "        print(\"Epoch-%d: \" % (epoch))\n",
    "\n",
    "        train_start_time = time.monotonic()\n",
    "        train_loss, train_acc = train(model, trainloader, optimizer, criterion)\n",
    "        train_end_time = time.monotonic()\n",
    "\n",
    "        val_start_time = time.monotonic()\n",
    "        val_loss, val_acc = evaluate(model, valloader, optimizer, criterion)\n",
    "        val_end_time = time.monotonic()\n",
    "\n",
    "        train_loss_list[epoch] = train_loss\n",
    "        train_acc_list[epoch] = train_acc\n",
    "        val_loss_list[epoch] = val_loss\n",
    "        val_acc_list[epoch] = val_acc\n",
    "\n",
    "        print(\"Training: Loss = %.4f, Accuracy = %.4f, Time = %.2f seconds\" % (train_loss, train_acc, train_end_time - train_start_time))\n",
    "        print(\"Validation: Loss = %.4f, Accuracy = %.4f, Time = %.2f seconds\" % (val_loss, val_acc, val_end_time - val_start_time))\n",
    "        print(\"\")\n",
    "\n",
    "    now = datetime.now() # current date and time\n",
    "    print(now.strftime(\"%Y-%m-%d, %H:%M:%S\"),\"Model trained\")\n",
    "else:\n",
    "    print(\"skipped here\")"
   ]
  }
 ],
 "metadata": {
  "kernelspec": {
   "display_name": "morph_2",
   "language": "python",
   "name": "python3"
  },
  "language_info": {
   "codemirror_mode": {
    "name": "ipython",
    "version": 3
   },
   "file_extension": ".py",
   "mimetype": "text/x-python",
   "name": "python",
   "nbconvert_exporter": "python",
   "pygments_lexer": "ipython3",
   "version": "3.9.7"
  },
  "orig_nbformat": 4
 },
 "nbformat": 4,
 "nbformat_minor": 2
}
